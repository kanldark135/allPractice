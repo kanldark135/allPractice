{
 "cells": [
  {
   "attachments": {},
   "cell_type": "markdown",
   "metadata": {},
   "source": [
    "<h3>1. Numpy Datatype</h3><hr/>\n",
    "<ul> \n",
    "    <li> array 내의 데이터 타입은 숫자, 문자, boolean 모두 가능\n",
    "    <li> 그러나 특정 array 내의 데이터타입은 모두 동일해야 한다.\n",
    "    <li>만약 서로 다른 경우 임의로 강제 변환시킴\n",
    "</ul>\n",
    "<br> (str > float > int 순)"
   ]
  },
  {
   "cell_type": "code",
   "execution_count": 3,
   "metadata": {},
   "outputs": [
    {
     "name": "stdout",
     "output_type": "stream",
     "text": [
      "['1' '2' 'True']\n"
     ]
    }
   ],
   "source": [
    "import numpy as np\n",
    "\n",
    "array = np.array([1, '2', True])\n",
    "print(array)"
   ]
  },
  {
   "attachments": {},
   "cell_type": "markdown",
   "metadata": {},
   "source": [
    "대량의 Dataset 을 다룰 때는 astype 함수를 사용하여 float > int 로 변환하도록 한다."
   ]
  },
  {
   "cell_type": "code",
   "execution_count": 14,
   "metadata": {},
   "outputs": [
    {
     "data": {
      "text/plain": [
       "array([1, 2, 3])"
      ]
     },
     "execution_count": 14,
     "metadata": {},
     "output_type": "execute_result"
    }
   ],
   "source": [
    "array= np.array([1.0, 2.0, 3.0])\n",
    "array.astype(np.int32)"
   ]
  },
  {
   "attachments": {},
   "cell_type": "markdown",
   "metadata": {},
   "source": [
    "<h3> 2. Axis 의 차원 관련 </h3><hr/>\n",
    "\n",
    "직관적으로 axis0 - axis1 - axis2... 로 <u>0부터 고차원이라고 생각</u><br>\n",
    "비쥬얼적으로, <b style = \"color: blue; font-size: 20px;\"> 제일 나중에 오는 axis가 열방향 (열의 개수) </b>\n",
    "<b style = \"color:red; font-size: 20px;\"> 그다음 axis 가 행방향 (행의 개수) </b>\n",
    "이후로는 ..."
   ]
  },
  {
   "attachments": {},
   "cell_type": "markdown",
   "metadata": {},
   "source": [
    "<h3> 3. reshape(-1) 의 의미 </h3><hr/>\n",
    "reshape(-1, ....) 는 해당 위치의 axis 는 다른 차원 참조하여 \"알아서 잘 배열\" 의 의미임 <br/>\n",
    "주로,<br/>\n",
    "reshape(-1, 1) : 1차원 배열 -> 2차원의 벡터 형태로 (행 n개 / 열 1개)<br/>\n",
    "reshape(-1, ) : 2차원 배열 -> 1차원의 열 형태로 (행 1개 / 열 n개)<br/>"
   ]
  },
  {
   "cell_type": "code",
   "execution_count": 6,
   "metadata": {},
   "outputs": [
    {
     "name": "stdout",
     "output_type": "stream",
     "text": [
      "[[1]\n",
      " [2]\n",
      " [3]\n",
      " [4]\n",
      " [5]]\n",
      "[1 2 3 4 5]\n"
     ]
    }
   ],
   "source": [
    "import numpy as np\n",
    "\n",
    "array1d = np.array([1,2,3,4,5])\n",
    "print(array1d.reshape(-1, 1))\n",
    "\n",
    "array2d = np.array([[1], [2], [3], [4], [5]])\n",
    "print(array2d.reshape(-1, ))"
   ]
  },
  {
   "attachments": {},
   "cell_type": "markdown",
   "metadata": {},
   "source": [
    "-1은 꼭 최상위 차원뿐 아니라 다른 차원에서도 역할 가능<br>\n",
    "다만 딱 한 차원만 random 하게 설정 가능 (어찌보면 당연한...)<br>\n",
    "-> ValueError: can only specify one unknown dimension"
   ]
  },
  {
   "cell_type": "code",
   "execution_count": 12,
   "metadata": {},
   "outputs": [
    {
     "name": "stdout",
     "output_type": "stream",
     "text": [
      "[[0 1 2 3]\n",
      " [4 5 6 7]]\n",
      "[[0 1]\n",
      " [2 3]\n",
      " [4 5]\n",
      " [6 7]]\n",
      "[[0]\n",
      " [1]\n",
      " [2]\n",
      " [3]\n",
      " [4]\n",
      " [5]\n",
      " [6]\n",
      " [7]]\n",
      "[[0]\n",
      " [1]\n",
      " [2]\n",
      " [3]\n",
      " [4]\n",
      " [5]\n",
      " [6]\n",
      " [7]]\n",
      "[0 1 2 3 4 5 6 7]\n"
     ]
    }
   ],
   "source": [
    "array = np.arange(8)\n",
    "array3d = array.reshape(2,2,2)\n",
    "\n",
    "#1차원을 2차원 / 알아서로 변환\n",
    "\n",
    "array1 = array.reshape(-1, 4) ## array.reshape(2, 4) 와 동일\n",
    "print(array1)\n",
    "array2 = array.reshape(4, -1)  ## array.reshape(4, 2) 와 동일\n",
    "print(array2)\n",
    "\n",
    "# 3차원을 2차원으로 변환\n",
    "\n",
    "array3 = array3d.reshape(-1, 1)\n",
    "print(array3)\n",
    "\n",
    "# 1차원을 2차원으로 변환\n",
    "\n",
    "array4 = array.reshape(-1, 1)\n",
    "print(array4)\n",
    "\n",
    "# 3차원을 1차원으로 변환\n",
    "array5 = array3d.reshape(-1, )\n",
    "print(array5)"
   ]
  },
  {
   "attachments": {},
   "cell_type": "markdown",
   "metadata": {},
   "source": [
    "<h3> 인덱싱 </h3>\n",
    "\n",
    "<ul>\n",
    "<li> 특정 위치의 단일값 추출\n",
    "<li> 슬라이싱\n",
    "<li> 팬시 인덱싱 -> 특정 위치들을 리스트나 ndarray로 반환하면 해당 위치들을 반환하는 방법 : array[[1,4,7]] = > array 에서 1, 4, 7번째 반환\n",
    "<li> 불린 인덱싱 -> array([True, True, False, False, True]) => True 인 0, 1, 4번 반환\n",
    "</ul>"
   ]
  },
  {
   "cell_type": "code",
   "execution_count": 9,
   "metadata": {},
   "outputs": [
    {
     "name": "stdout",
     "output_type": "stream",
     "text": [
      "[[3 4 5]\n",
      " [6 7 8]]\n",
      "[[4]\n",
      " [7]]\n"
     ]
    }
   ],
   "source": [
    "import numpy as np\n",
    "import pandas as pd\n",
    "\n",
    "ar = np.arange(0, 9).reshape(3, -1)\n",
    "\n",
    "print(ar[1:])\n",
    "print(ar[1:, 1:2])\n"
   ]
  },
  {
   "cell_type": "markdown",
   "metadata": {},
   "source": [
    "<h3>배열의 정렬 : sort()</h3>\n",
    "\n",
    "np.sort(ndarray) : ndarray 는 그대로 둔 채 정렬 (inplace = False)\n",
    "ndarray.sort() : ndarray 자체를 바꿔버리고 none 반환 (inplace = True)\n",
    "\n",
    "params 에 오름차순, 내림차순이 없어서 내림차순으로 바꾸려면 : [::-1] 적용"
   ]
  },
  {
   "cell_type": "code",
   "execution_count": 28,
   "metadata": {},
   "outputs": [
    {
     "name": "stdout",
     "output_type": "stream",
     "text": [
      "[[6 7 8]\n",
      " [3 4 5]\n",
      " [0 1 2]]\n",
      "[[ 3  5]\n",
      " [13  7]]\n",
      "[[ 3  7]\n",
      " [ 5 13]]\n"
     ]
    }
   ],
   "source": [
    "ar = np.arange(0, 9).reshape(3, -1)\n",
    "\n",
    "#1. 내림차순으로 변경\n",
    "print(np.sort(ar)[::-1])\n",
    "\n",
    "#2. axis 축 정렬\n",
    "# 위에서 언급한대로 axis = 0 부터 고차원 ~~ 제일 마지막 axis 가 열방향\n",
    "\n",
    "ar2d = np.array([[3, 7], [13, 5]])\n",
    "print(np.sort(ar2d, axis = 0))\n",
    "print(np.sort(ar2d, axis = 1))\n"
   ]
  },
  {
   "cell_type": "markdown",
   "metadata": {},
   "source": [
    "<h3>argsort()</h3>\n",
    "\n",
    "정렬된 행렬의 원래 인덱스를 반환\n",
    "정렬끼리 매핑할때 사용\n"
   ]
  },
  {
   "cell_type": "code",
   "execution_count": 33,
   "metadata": {},
   "outputs": [
    {
     "name": "stdout",
     "output_type": "stream",
     "text": [
      "[1 0 3 2]\n",
      "[2 3 0 1]\n"
     ]
    }
   ],
   "source": [
    "ar = np.array([3, 1, 9, 5])\n",
    "\n",
    "#1. argsort = > [1, 3, 5, 9] 로 변경\n",
    "#2. 각각에 대응되어있던 원래 배열의 index  => [1, 0, 3, 2]\n",
    "# return #2\n",
    "\n",
    "sort_array = np.argsort(ar)\n",
    "print(sort_array)\n",
    "\n",
    "# 내림차순으로 정렬해도 [3, 2, 1, 0] 이 아니라 [9, 5, 3, 1] 정렬의 원래 배열의 indexing 반환\n",
    "\n",
    "sort_desc = np.argsort(ar)[::-1]\n",
    "print(sort_desc)\n"
   ]
  },
  {
   "cell_type": "code",
   "execution_count": 35,
   "metadata": {},
   "outputs": [
    {
     "name": "stdout",
     "output_type": "stream",
     "text": [
      "[0 2 1 3]\n",
      "성적 오름차순 순서를 name array 에 팬시인덱싱 :  ['john' 'sarah' 'mike' 'kate']\n"
     ]
    }
   ],
   "source": [
    "# 언제 쓰나? : 복수의 ndarray 가 매핑되는 순서로 나열되있는 가운데 특정 ndarray 를 기준으로 정렬하고 싶을때\n",
    "\n",
    "name = np.array(['john', 'mike', 'sarah', 'kate'])\n",
    "score = np.array([78, 95, 84, 98])\n",
    "\n",
    "# 이때 \"성적순\" 으로 사람 정렬\n",
    "sort_index = np.argsort(score)\n",
    "print(sort_index)\n",
    "print('성적 오름차순 순서를 name array 에 팬시인덱싱 : ', name[sort_index])"
   ]
  }
 ],
 "metadata": {
  "kernelspec": {
   "display_name": "base",
   "language": "python",
   "name": "python3"
  },
  "language_info": {
   "codemirror_mode": {
    "name": "ipython",
    "version": 3
   },
   "file_extension": ".py",
   "mimetype": "text/x-python",
   "name": "python",
   "nbconvert_exporter": "python",
   "pygments_lexer": "ipython3",
   "version": "3.9.13"
  },
  "orig_nbformat": 4
 },
 "nbformat": 4,
 "nbformat_minor": 2
}
