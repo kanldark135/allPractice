{
 "cells": [
  {
   "attachments": {},
   "cell_type": "markdown",
   "metadata": {},
   "source": [
    "<h3>1. Numpy Datatype</h3><hr/>\n",
    "<ul> \n",
    "    <li> array 내의 데이터 타입은 숫자, 문자, boolean 모두 가능\n",
    "    <li> 그러나 특정 array 내의 데이터타입은 모두 동일해야 한다.\n",
    "    <li>만약 서로 다른 경우 임의로 강제 변환시킴\n",
    "</ul>\n",
    "<br> (str > float > int 순)"
   ]
  },
  {
   "cell_type": "code",
   "execution_count": 3,
   "metadata": {},
   "outputs": [
    {
     "name": "stdout",
     "output_type": "stream",
     "text": [
      "['1' '2' 'True']\n"
     ]
    }
   ],
   "source": [
    "import numpy as np\n",
    "\n",
    "array = np.array([1, '2', True])\n",
    "print(array)"
   ]
  },
  {
   "attachments": {},
   "cell_type": "markdown",
   "metadata": {},
   "source": [
    "대량의 Dataset 을 다룰 때는 astype 함수를 사용하여 float > int 로 변환하도록 한다."
   ]
  },
  {
   "cell_type": "code",
   "execution_count": 14,
   "metadata": {},
   "outputs": [
    {
     "data": {
      "text/plain": [
       "array([1, 2, 3])"
      ]
     },
     "execution_count": 14,
     "metadata": {},
     "output_type": "execute_result"
    }
   ],
   "source": [
    "array= np.array([1.0, 2.0, 3.0])\n",
    "array.astype(np.int32)"
   ]
  },
  {
   "attachments": {},
   "cell_type": "markdown",
   "metadata": {},
   "source": [
    "<h3> 2. Axis 의 차원 관련 </h3><hr/>\n",
    "\n",
    "직관적으로 axis0 - axis1 - axis2... 로 <u>0부터 고차원이라고 생각</u><br>\n",
    "비쥬얼적으로, <b style = \"color: blue; font-size: 20px;\"> 제일 나중에 오는 axis가 열방향 (열의 개수) </b>\n",
    "<b style = \"color:red; font-size: 20px;\"> 그다음 axis 가 행방향 (행의 개수) </b>\n",
    "이후로는 ..."
   ]
  },
  {
   "attachments": {},
   "cell_type": "markdown",
   "metadata": {},
   "source": [
    "<h3> 3. reshape(-1) 의 의미 </h3><hr/>\n",
    "reshape(-1, ....) 는 해당 위치의 axis 는 다른 차원 참조하여 \"알아서 잘 배열\" 의 의미임 <br/>\n",
    "주로,<br/>\n",
    "reshape(-1, 1) : 1차원 배열 -> 2차원의 벡터 형태로 (행 n개 / 열 1개)<br/>\n",
    "reshape(-1, ) : 2차원 배열 -> 1차원의 열 형태로 (행 1개 / 열 n개)<br/>"
   ]
  },
  {
   "cell_type": "code",
   "execution_count": 6,
   "metadata": {},
   "outputs": [
    {
     "name": "stdout",
     "output_type": "stream",
     "text": [
      "[[1]\n",
      " [2]\n",
      " [3]\n",
      " [4]\n",
      " [5]]\n",
      "[1 2 3 4 5]\n"
     ]
    }
   ],
   "source": [
    "import numpy as np\n",
    "\n",
    "array1d = np.array([1,2,3,4,5])\n",
    "print(array1d.reshape(-1, 1))\n",
    "\n",
    "array2d = np.array([[1], [2], [3], [4], [5]])\n",
    "print(array2d.reshape(-1, ))"
   ]
  },
  {
   "attachments": {},
   "cell_type": "markdown",
   "metadata": {},
   "source": [
    "-1은 꼭 최상위 차원뿐 아니라 다른 차원에서도 역할 가능<br>\n",
    "다만 딱 한 차원만 random 하게 설정 가능 (어찌보면 당연한...)<br>\n",
    "-> ValueError: can only specify one unknown dimension"
   ]
  },
  {
   "cell_type": "code",
   "execution_count": 12,
   "metadata": {},
   "outputs": [
    {
     "name": "stdout",
     "output_type": "stream",
     "text": [
      "[[0 1 2 3]\n",
      " [4 5 6 7]]\n",
      "[[0 1]\n",
      " [2 3]\n",
      " [4 5]\n",
      " [6 7]]\n",
      "[[0]\n",
      " [1]\n",
      " [2]\n",
      " [3]\n",
      " [4]\n",
      " [5]\n",
      " [6]\n",
      " [7]]\n",
      "[[0]\n",
      " [1]\n",
      " [2]\n",
      " [3]\n",
      " [4]\n",
      " [5]\n",
      " [6]\n",
      " [7]]\n",
      "[0 1 2 3 4 5 6 7]\n"
     ]
    }
   ],
   "source": [
    "array = np.arange(8)\n",
    "array3d = array.reshape(2,2,2)\n",
    "\n",
    "#1차원을 2차원 / 알아서로 변환\n",
    "\n",
    "array1 = array.reshape(-1, 4) ## array.reshape(2, 4) 와 동일\n",
    "print(array1)\n",
    "array2 = array.reshape(4, -1)  ## array.reshape(4, 2) 와 동일\n",
    "print(array2)\n",
    "\n",
    "# 3차원을 2차원으로 변환\n",
    "\n",
    "array3 = array3d.reshape(-1, 1)\n",
    "print(array3)\n",
    "\n",
    "# 1차원을 2차원으로 변환\n",
    "\n",
    "array4 = array.reshape(-1, 1)\n",
    "print(array4)\n",
    "\n",
    "# 3차원을 1차원으로 변환\n",
    "array5 = array3d.reshape(-1, )\n",
    "print(array5)"
   ]
  },
  {
   "attachments": {},
   "cell_type": "markdown",
   "metadata": {},
   "source": []
  },
  {
   "attachments": {},
   "cell_type": "markdown",
   "metadata": {},
   "source": []
  }
 ],
 "metadata": {
  "kernelspec": {
   "display_name": "base",
   "language": "python",
   "name": "python3"
  },
  "language_info": {
   "codemirror_mode": {
    "name": "ipython",
    "version": 3
   },
   "file_extension": ".py",
   "mimetype": "text/x-python",
   "name": "python",
   "nbconvert_exporter": "python",
   "pygments_lexer": "ipython3",
   "version": "3.9.13"
  },
  "orig_nbformat": 4
 },
 "nbformat": 4,
 "nbformat_minor": 2
}
